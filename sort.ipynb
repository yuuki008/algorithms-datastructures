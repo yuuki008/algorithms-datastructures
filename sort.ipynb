{
 "cells": [
  {
   "cell_type": "code",
   "execution_count": 25,
   "id": "77bbd2ec",
   "metadata": {},
   "outputs": [
    {
     "name": "stdout",
     "output_type": "stream",
     "text": [
      "[163, 600, 837]\n"
     ]
    }
   ],
   "source": [
    "# ボゴソート\n",
    "from typing import List\n",
    "import random\n",
    "\n",
    "def in_order(numbers: List[int]) -> bool:\n",
    "    return all(numbers[i] <= numbers[i+1] for i in range(len(numbers)-1))\n",
    "\n",
    "def bogo_sort(numbers: List[int]) -> List[int]:\n",
    "    while not in_order(numbers):\n",
    "        random.shuffle(numbers)\n",
    "    return numbers\n",
    "\n",
    "if __name__ == '__main__':\n",
    "    nums = [random.randint(0, 1000) for _ in range(3)]\n",
    "    print(bogo_sort(nums))\n"
   ]
  },
  {
   "cell_type": "code",
   "execution_count": 26,
   "id": "0eb0ed35",
   "metadata": {},
   "outputs": [
    {
     "name": "stdout",
     "output_type": "stream",
     "text": [
      "[28, 112, 153, 292, 324, 462, 547, 730, 804, 876]\n"
     ]
    }
   ],
   "source": [
    "# バブルソート\n",
    "def bubble_sort(numbers: List[int]) -> List[int]:\n",
    "    for i in range(len(numbers)):\n",
    "        for j in range(len(numbers) - 1 - i):\n",
    "            if numbers[j] > numbers[j+1]:\n",
    "                numbers[j], numbers[j+1] = numbers[j+1], numbers[j]\n",
    "    return numbers\n",
    "\n",
    "if __name__ == '__main__':\n",
    "    nums = [random.randint(0, 1000) for i in range(10)]\n",
    "    print(bubble_sort(nums))"
   ]
  },
  {
   "cell_type": "code",
   "execution_count": 27,
   "id": "6dde3b52",
   "metadata": {},
   "outputs": [
    {
     "name": "stdout",
     "output_type": "stream",
     "text": [
      "[12, 310, 473, 120, 652, 115, 552, 692, 242, 854]\n"
     ]
    }
   ],
   "source": [
    "# コックテイルソート\n",
    "def cocktail_sort(numbers: List[int]) -> List[int]:\n",
    "    swapped = True\n",
    "    start = 0\n",
    "    end = len(numbers) - 1\n",
    "    while swapped:\n",
    "        swapped = False\n",
    "        for i in range(start, end):\n",
    "            if numbers[i] > numbers[i+1]:\n",
    "                numbers[i], numbers[i+1] = numbers[i+1], numbers[i]\n",
    "                swapped = True\n",
    "        \n",
    "        if not swapped: \n",
    "            break\n",
    "        \n",
    "        swapped = False\n",
    "        end -= 1\n",
    "        \n",
    "        for i in range(end-1, start -1, -1):\n",
    "            if numbers[i] > numbers[i+1]:\n",
    "                numbers[i], numbers[i+1] = numbers[i+1], numbers[i]\n",
    "                swapped = True\n",
    "        start += 1\n",
    "        return numbers\n",
    "\n",
    "if __name__ == \"__main__\":\n",
    "    nums = [random.randint(0, 1000) for  i in range(10)]\n",
    "    print(cocktail_sort(nums))"
   ]
  },
  {
   "cell_type": "code",
   "execution_count": 28,
   "id": "1c92bbc6",
   "metadata": {},
   "outputs": [
    {
     "name": "stdout",
     "output_type": "stream",
     "text": [
      "[30, 359, 454, 492, 110, 701, 934, 521, 179, 777]\n",
      "[30, 110, 179, 359, 454, 492, 521, 701, 777, 934]\n"
     ]
    }
   ],
   "source": [
    "# コムソート\n",
    "def comb_sort(numbers: List[int]) -> List[int]:\n",
    "    gap = len(numbers)\n",
    "    swapped = True\n",
    "    \n",
    "    while gap != 1 or swapped:\n",
    "        gap = int(gap / 1.3)\n",
    "        if gap < 1:\n",
    "            gap = 1\n",
    "        swapped = False\n",
    "        for i in range(0, len(numbers) - gap):\n",
    "            if numbers[i] > numbers[i+gap]:\n",
    "                numbers[i], numbers[i+gap] = numbers[i+gap], numbers[i]\n",
    "                swapped = True\n",
    "    return numbers\n",
    "\n",
    "if __name__ == '__main__':\n",
    "    numbers = [random.randint(0, 1000) for i in range(10)]\n",
    "    print(comb_sort(numbers))\n",
    "        "
   ]
  },
  {
   "cell_type": "code",
   "execution_count": 29,
   "id": "1c3d92ac",
   "metadata": {},
   "outputs": [
    {
     "name": "stdout",
     "output_type": "stream",
     "text": [
      "[109, 234, 236, 277, 416, 510, 606, 829, 925, 973]\n"
     ]
    }
   ],
   "source": [
    "# 挿入ソート\n",
    "def insertion_sort(numbers: List[int]) -> List[int]:\n",
    "    for i in range(len(numbers)):\n",
    "        temp = numbers[i]\n",
    "        j = i - 1\n",
    "        while j >= 0 and numbers[j] > temp: \n",
    "            numbers[j+1] = numbers[j]\n",
    "            j -= 1\n",
    "        numbers[j+1] = temp\n",
    "    return numbers\n",
    "\n",
    "if __name__ == '__main__':\n",
    "    import random\n",
    "    nums = [random.randint(0, 1000) for _ in range(10)]\n",
    "    print(insertion_sort(nums))"
   ]
  },
  {
   "cell_type": "code",
   "execution_count": 88,
   "id": "6a53b4a1",
   "metadata": {},
   "outputs": [
    {
     "name": "stdout",
     "output_type": "stream",
     "text": [
      "[67, 283, 295, 317, 341, 574, 576, 796, 912, 992]\n"
     ]
    }
   ],
   "source": [
    "#  バケットソート\n",
    "def bucket_sort(numbers: List[int]) -> List[int]:\n",
    "    len_numbers = len(numbers)\n",
    "    max_num = max(numbers)\n",
    "    size = max_num // len_numbers\n",
    "    \n",
    "    buckets = [[] for i in range(size)]\n",
    "    \n",
    "    for num in numbers: \n",
    "        bucket_number = num //size\n",
    "        if size != bucket_number:\n",
    "            buckets[bucket_number].append(num)\n",
    "        else:\n",
    "            buckets[size-1] .append(num)\n",
    "    \n",
    "    for i in range(len(buckets)):\n",
    "        insertion_sort(buckets[i])\n",
    "    \n",
    "    result = []\n",
    "    for  i in range(len(buckets)):\n",
    "        result +=  buckets[i]\n",
    "    return result\n",
    "            \n",
    "\n",
    "if __name__ == '__main__':\n",
    "    import random \n",
    "    numbers = [random.randint(0, 1000) for _ in range(10)]\n",
    "    print(bucket_sort(numbers))\n",
    "        "
   ]
  },
  {
   "cell_type": "code",
   "execution_count": 47,
   "id": "ec8a674c",
   "metadata": {},
   "outputs": [
    {
     "name": "stdout",
     "output_type": "stream",
     "text": [
      "[17, 372, 515, 584, 675, 862, 871, 951, 985, 987]\n"
     ]
    }
   ],
   "source": [
    "# 選択ソート\n",
    "def selection_sort(numbers: List[int]) -> List[int]:\n",
    "    for i in range(len(numbers)):\n",
    "        min_idx = i\n",
    "        for j in range(i, len(numbers)):\n",
    "            if numbers[min_idx] > numbers[j]:\n",
    "                min_idx = j\n",
    "        numbers[min_idx], numbers[i] = numbers[i], numbers[min_idx]\n",
    "    return numbers\n",
    "            \n",
    "\n",
    "if __name__ == '__main__':\n",
    "    nums = [random.randint(0, 1000) for i in range(10)]\n",
    "    print(selection_sort(nums))"
   ]
  },
  {
   "cell_type": "code",
   "execution_count": 100,
   "id": "ec757ef9",
   "metadata": {},
   "outputs": [
    {
     "name": "stdout",
     "output_type": "stream",
     "text": [
      "[717, 239, 422, 339, 345, 826, 774, 573, 520, 473]\n",
      "[239, 339, 345, 422, 473, 520, 573, 717, 774, 826]\n"
     ]
    }
   ],
   "source": [
    "#  グノムソート\n",
    "def gnome_sort(numbers: List[int]) -> List[int]:\n",
    "    index = 0\n",
    "    while index < len(numbers):\n",
    "        if index == 0: \n",
    "            index += 1\n",
    "        if numbers[index] > numbers[index-1]:\n",
    "            index += 1\n",
    "        else:\n",
    "            numbers[index], numbers[index-1] = numbers[index-1], numbers[index]\n",
    "            index -= 1\n",
    "    return numbers\n",
    "\n",
    "if __name__ == '__main__':\n",
    "    nums = [random.randint(0, 1000) for i in range(10)]\n",
    "    print(nums)\n",
    "    print(gnome_sort(nums))"
   ]
  },
  {
   "cell_type": "code",
   "execution_count": 89,
   "id": "4f2fbb9b",
   "metadata": {},
   "outputs": [
    {
     "name": "stdout",
     "output_type": "stream",
     "text": [
      "[288, 408, 507, 564, 686, 719, 727, 764, 861, 872]\n"
     ]
    }
   ],
   "source": [
    "# シェルソート\n",
    "def shell_sort(numbers: List[int]) -> List[int]:\n",
    "    gap = len(numbers) // 2\n",
    "    while gap > 0:\n",
    "        for i in range(gap, len(numbers)):\n",
    "            temp = numbers[i]\n",
    "            j = i\n",
    "            while j >= gap and numbers[j-gap] > temp:\n",
    "                numbers[j] = numbers[j-gap]\n",
    "                j -= gap\n",
    "            numbers[j] = temp\n",
    "        gap //= 2\n",
    "    return numbers\n",
    "\n",
    "if __name__ == '__main__':\n",
    "    import random\n",
    "    nums = [random.randint(0, 1000) for _ in range(10)]\n",
    "    print(shell_sort(nums))"
   ]
  },
  {
   "cell_type": "code",
   "execution_count": 143,
   "id": "bc950f61",
   "metadata": {},
   "outputs": [
    {
     "name": "stdout",
     "output_type": "stream",
     "text": [
      "[78, 246, 285, 304, 427, 455, 483, 691, 815, 973]\n"
     ]
    }
   ],
   "source": [
    "# カウンティングソート\n",
    "def counting_sort(numbers: List[int], place: int) -> List[int]:\n",
    "    counts = [0] * 10\n",
    "    result = [0] * len(numbers)\n",
    "\n",
    "    for num in numbers:\n",
    "        index = int(num / place) % 10\n",
    "        counts[index] += 1\n",
    "\n",
    "    for i in range(1, 10):\n",
    "        counts[i] += counts[i-1]\n",
    "\n",
    "    i = len(numbers) - 1\n",
    "    while i >= 0:\n",
    "        index = int(numbers[i]/place) % 10\n",
    "        result[counts[index]-1] = numbers[i]\n",
    "        counts[index] -= 1\n",
    "        i -= 1\n",
    "\n",
    "    return result\n",
    "\n",
    "# ラディックスソート\n",
    "def radix_sort(numbers: List[int]) -> List[int]:\n",
    "    max_num = max(numbers)\n",
    "    place = 1\n",
    "    while max_num > place:\n",
    "        numbers = counting_sort(numbers, place)\n",
    "        place *= 10\n",
    "    return numbers\n",
    "\n",
    "if __name__ == '__main__':\n",
    "    import random\n",
    "    nums = [random.randint(0, 1000) for _ in range(10)]\n",
    "    print(radix_sort(nums))"
   ]
  },
  {
   "cell_type": "code",
   "execution_count": 251,
   "id": "85988309",
   "metadata": {},
   "outputs": [
    {
     "name": "stdout",
     "output_type": "stream",
     "text": [
      "[271, 64, 144, 989, 769, 912, 489, 138, 46, 958]\n",
      "[46, 64, 138, 144, 271, 489, 769, 912, 958, 989]\n"
     ]
    }
   ],
   "source": [
    "## クイックソート\n",
    "def partition(numbers: List[int], low: int, high: int) -> int:\n",
    "    i = low - 1\n",
    "    pivot = numbers[high]\n",
    "    for j in range(low, high):\n",
    "        if numbers[j] <= pivot:\n",
    "            i += 1\n",
    "            numbers[i], numbers[j] = numbers[j], numbers[i]\n",
    "    numbers[i+1], numbers[high] = numbers[high], numbers[i+1]\n",
    "    return i+1\n",
    "\n",
    "\n",
    "def quick_sort(numbers: List[int]) -> List[int]:\n",
    "    def _quick_sort(numbers: List[int], low: int, high: int) -> None:\n",
    "        if low < high:\n",
    "            partition_index = partition(numbers, low, high)\n",
    "            _quick_sort(numbers, low, partition_index-1)\n",
    "            _quick_sort(numbers, partition_index+1, high)\n",
    "\n",
    "    _quick_sort(numbers, 0, len(numbers)-1)\n",
    "    return numbers\n",
    "\n",
    "if __name__ == '__main__':\n",
    "    nums = [random.randint(0, 1000) for i in range(10)]\n",
    "    print(nums)\n",
    "    print(quick_sort(nums))\n",
    "    "
   ]
  },
  {
   "cell_type": "code",
   "execution_count": 280,
   "id": "2b6a66cb",
   "metadata": {},
   "outputs": [
    {
     "name": "stdout",
     "output_type": "stream",
     "text": [
      "[756, 480, 666, 190, 579, 707, 784, 320, 371, 368]\n",
      "[190, 320, 368, 371, 480, 579, 666, 707, 756, 784]\n"
     ]
    }
   ],
   "source": [
    "# マージソート\n",
    "def merge_sort(numbers: List[int]) -> List[int]:\n",
    "    if len(numbers) <= 1:\n",
    "        return numbers\n",
    "    \n",
    "    center = len(numbers) // 2\n",
    "    left = numbers[:center]\n",
    "    right = numbers[center:]\n",
    "    \n",
    "    merge_sort(left)\n",
    "    merge_sort(right)\n",
    "    \n",
    "    i = j = k = 0\n",
    "    while i < len(left) and j < len(right):\n",
    "        if left[i] < right[j]:\n",
    "            numbers[k] = left[i]\n",
    "            i += 1\n",
    "        else: \n",
    "            numbers[k] = right[j]\n",
    "            j += 1\n",
    "        k += 1\n",
    "    \n",
    "    while i < len(left): \n",
    "        numbers[k] = left[i]\n",
    "        i += 1\n",
    "        k += 1\n",
    "    \n",
    "    while j < len(right):\n",
    "        numbers[k] = right[j]\n",
    "        j += 1\n",
    "        k += 1\n",
    "    \n",
    "    return numbers\n",
    "\n",
    "if __name__ == '__main__':\n",
    "    nums = [random.randint(0, 1000) for i in range(10)]\n",
    "    print(nums)\n",
    "    print(merge_sort(nums))"
   ]
  },
  {
   "cell_type": "code",
   "execution_count": 146,
   "id": "352ca2ce",
   "metadata": {},
   "outputs": [
    {
     "name": "stdout",
     "output_type": "stream",
     "text": [
      "[75, 116, 207, 210, 232, 696, 696, 840, 902, 924]\n"
     ]
    }
   ],
   "source": [
    "def merge_sort(data: list, l: int, m: int, r: int) -> list:\n",
    "    len_left, len_right = m - l + 1, r - m\n",
    "    left, right = [], []\n",
    "    for i in range(0, len_left):\n",
    "        left.append(data[l + i])\n",
    "    for i in range(0, len_right):\n",
    "        right.append(data[m + 1 + i])\n",
    "\n",
    "    i, j, k = 0, 0, l\n",
    "    while i < len_left and j < len_right:\n",
    "        if left[i] <= right[j]:\n",
    "            data[k] = left[i]\n",
    "            i += 1\n",
    "        else:\n",
    "            data[k] = right[j]\n",
    "            j += 1\n",
    "        k += 1\n",
    "\n",
    "    while i < len_left:\n",
    "        data[k] = left[i]\n",
    "        k += 1\n",
    "        i += 1\n",
    "\n",
    "    while j < len_right:\n",
    "        data[k] = right[j]\n",
    "        k += 1\n",
    "        j += 1\n",
    "\n",
    "    return data\n",
    "\n",
    "\n",
    "def insertion_sort(data: list, left: int, right: int) -> list:\n",
    "    for i in range(left + 1, right + 1):\n",
    "        temp = data[i]\n",
    "        j = i - 1\n",
    "        while j >= left and data[j] > temp:\n",
    "            data[j + 1] = data[j]\n",
    "            j -= 1\n",
    "\n",
    "        data[j + 1] = temp\n",
    "    return data\n",
    "\n",
    "\n",
    "def tim_sort(data: list, size: int = 32) -> list:\n",
    "    n = len(data)\n",
    "    for i in range(0, n, size):\n",
    "        insertion_sort(data, i, min((i + 31), (n - 1)))\n",
    "\n",
    "    while size < n:\n",
    "        for left in range(0, n, 2 * size):\n",
    "            mid = left + size - 1\n",
    "            right = min((left + 2 * size - 1), (n - 1))\n",
    "            merge_sort(data, left, mid, right)\n",
    "        size = 2 * size\n",
    "    return data\n",
    "\n",
    "\n",
    "if __name__ == '__main__':\n",
    "    import random\n",
    "    nums = [random.randint(0, 1000) for _ in range(10)]\n",
    "    print(tim_sort(nums))\n"
   ]
  },
  {
   "cell_type": "code",
   "execution_count": null,
   "id": "056bd585",
   "metadata": {},
   "outputs": [],
   "source": []
  },
  {
   "cell_type": "code",
   "execution_count": null,
   "id": "832a5181",
   "metadata": {},
   "outputs": [],
   "source": []
  },
  {
   "cell_type": "code",
   "execution_count": null,
   "id": "27489fd7",
   "metadata": {},
   "outputs": [],
   "source": []
  },
  {
   "cell_type": "code",
   "execution_count": null,
   "id": "83755d6b",
   "metadata": {},
   "outputs": [],
   "source": []
  },
  {
   "cell_type": "code",
   "execution_count": null,
   "id": "f2fcd228",
   "metadata": {},
   "outputs": [],
   "source": []
  },
  {
   "cell_type": "code",
   "execution_count": null,
   "id": "bacc3c81",
   "metadata": {},
   "outputs": [],
   "source": []
  },
  {
   "cell_type": "code",
   "execution_count": null,
   "id": "59cf64e3",
   "metadata": {},
   "outputs": [],
   "source": []
  },
  {
   "cell_type": "code",
   "execution_count": null,
   "id": "0a4ded8b",
   "metadata": {},
   "outputs": [],
   "source": []
  },
  {
   "cell_type": "code",
   "execution_count": null,
   "id": "94273ac0",
   "metadata": {},
   "outputs": [],
   "source": []
  },
  {
   "cell_type": "code",
   "execution_count": null,
   "id": "d2973495",
   "metadata": {},
   "outputs": [],
   "source": []
  },
  {
   "cell_type": "code",
   "execution_count": null,
   "id": "ad7d1be2",
   "metadata": {},
   "outputs": [],
   "source": []
  },
  {
   "cell_type": "code",
   "execution_count": null,
   "id": "29772eb9",
   "metadata": {},
   "outputs": [],
   "source": []
  },
  {
   "cell_type": "code",
   "execution_count": null,
   "id": "747e2d97",
   "metadata": {},
   "outputs": [],
   "source": []
  },
  {
   "cell_type": "code",
   "execution_count": null,
   "id": "3adfd0dd",
   "metadata": {},
   "outputs": [],
   "source": []
  },
  {
   "cell_type": "code",
   "execution_count": null,
   "id": "33a1d693",
   "metadata": {},
   "outputs": [],
   "source": []
  },
  {
   "cell_type": "code",
   "execution_count": null,
   "id": "cc76679f",
   "metadata": {},
   "outputs": [],
   "source": []
  },
  {
   "cell_type": "code",
   "execution_count": null,
   "id": "c847aabd",
   "metadata": {},
   "outputs": [],
   "source": []
  },
  {
   "cell_type": "code",
   "execution_count": null,
   "id": "229a0a31",
   "metadata": {},
   "outputs": [],
   "source": []
  },
  {
   "cell_type": "code",
   "execution_count": null,
   "id": "af0fa753",
   "metadata": {},
   "outputs": [],
   "source": []
  }
 ],
 "metadata": {
  "kernelspec": {
   "display_name": "Python 3 (ipykernel)",
   "language": "python",
   "name": "python3"
  },
  "language_info": {
   "codemirror_mode": {
    "name": "ipython",
    "version": 3
   },
   "file_extension": ".py",
   "mimetype": "text/x-python",
   "name": "python",
   "nbconvert_exporter": "python",
   "pygments_lexer": "ipython3",
   "version": "3.9.5"
  }
 },
 "nbformat": 4,
 "nbformat_minor": 5
}
