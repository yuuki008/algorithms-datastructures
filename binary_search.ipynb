{
 "cells": [
  {
   "cell_type": "code",
   "execution_count": 4,
   "id": "289841f8",
   "metadata": {},
   "outputs": [
    {
     "name": "stdout",
     "output_type": "stream",
     "text": [
      "6\n"
     ]
    }
   ],
   "source": [
    "from typing import List\n",
    "# 線形探索\n",
    "def linear_search(numbers: List[int], value: int) -> int:\n",
    "    for i in range(0, len(numbers)):\n",
    "        if numbers[i] == value:\n",
    "            return i\n",
    "    return - 1\n",
    "\n",
    "if __name__ == \"__main__\":\n",
    "    import random\n",
    "    numbers = [0, 1, 5, 7, 9, 11,15, 20, 24]\n",
    "    print(linear_search(numbers, 15))\n",
    "    "
   ]
  },
  {
   "cell_type": "code",
   "execution_count": 76,
   "id": "80a22a02",
   "metadata": {},
   "outputs": [
    {
     "name": "stdout",
     "output_type": "stream",
     "text": [
      "6\n"
     ]
    }
   ],
   "source": [
    "def binary_search(numbers: List[int], value: int) -> int:\n",
    "    left, right = 0, len(numbers) - 1\n",
    "    while left <= right:\n",
    "        mid = (left + right) // 2\n",
    "        if numbers[mid] == value:\n",
    "            return mid\n",
    "        elif numbers[mid] < value:\n",
    "            left = mid + 1\n",
    "        else:\n",
    "            right = mid - 1\n",
    "    return -1\n",
    "\n",
    "def recursive_binary_search(numbers: List[int], value: int) -> int:\n",
    "    def _binary_search(numbers: List[int], value: int, left: int, right: int) -> int:\n",
    "        if left > right: \n",
    "            return -1\n",
    "        \n",
    "        mid = (left + right) // 2\n",
    "        \n",
    "        if numbers[mid] == value:\n",
    "            return mid\n",
    "        elif numbers[mid] < value:\n",
    "            return _binary_search(numbers, value, mid + 1, right)\n",
    "        else: \n",
    "            return _binary_search(numbers, value, left, mid - 1)\n",
    "    return _binary_search(numbers, value, 0, len(numbers) - 1)\n",
    "\n",
    "if __name__ == \"__main__\":\n",
    "    import random\n",
    "    numbers = [0, 1, 5, 7, 9, 11,15, 20, 24]\n",
    "    print(recursive_binary_search(numbers, 15))"
   ]
  }
 ],
 "metadata": {
  "kernelspec": {
   "display_name": "Python 3 (ipykernel)",
   "language": "python",
   "name": "python3"
  },
  "language_info": {
   "codemirror_mode": {
    "name": "ipython",
    "version": 3
   },
   "file_extension": ".py",
   "mimetype": "text/x-python",
   "name": "python",
   "nbconvert_exporter": "python",
   "pygments_lexer": "ipython3",
   "version": "3.9.5"
  }
 },
 "nbformat": 4,
 "nbformat_minor": 5
}
